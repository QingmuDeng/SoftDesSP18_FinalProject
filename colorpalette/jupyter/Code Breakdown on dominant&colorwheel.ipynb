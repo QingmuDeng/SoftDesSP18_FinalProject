{
 "cells": [
  {
   "cell_type": "code",
   "execution_count": null,
   "metadata": {},
   "outputs": [],
   "source": [
    "import numpy as np\n",
    "import cv2\n",
    "import random\n",
    "from sklearn.cluster import KMeans\n",
    "\n",
    "\"\"\"Unused in the shortened version\"\"\"\n",
    "import itertools\n",
    "\"\"\"For displaying images inside Jupyter Notebook\"\"\"\n",
    "%matplotlib notebook\n",
    "import matplotlib.pyplot as plt\n",
    "\n",
    "\"\"\"For creating csv files\"\"\"\n",
    "import csv"
   ]
  },
  {
   "cell_type": "code",
   "execution_count": null,
   "metadata": {},
   "outputs": [],
   "source": [
    "\"\"\"importing python files not in this directory\"\"\"\n",
    "import os\n",
    "import sys\n",
    "module_path = os.path.abspath(os.path.join('..'))\n",
    "if module_path not in sys.path:\n",
    "    sys.path.append(module_path)"
   ]
  },
  {
   "cell_type": "markdown",
   "metadata": {},
   "source": [
    "### The following code is from `dominant_color.py`\n",
    "Uses k means to determine the dominate colors in an image. Displays the results in a color histogram and saves the\n",
    "RGB values in a csv file."
   ]
  },
  {
   "cell_type": "code",
   "execution_count": null,
   "metadata": {},
   "outputs": [],
   "source": [
    "# create csv file with results\n",
    "file = open('output/palettes.csv', 'w') # 'b' flag needed for Python 2.7\n",
    "writer = csv.writer(file)\n",
    "writer.writerow(['image name', 'palette'])"
   ]
  },
  {
   "cell_type": "code",
   "execution_count": null,
   "metadata": {},
   "outputs": [],
   "source": [
    "# load image and convert from BGR to RBG\n",
    "image_path = 'src_imgs/test2.jpg'\n",
    "image = cv2.imread(image_path)\n",
    "image = cv2.cvtColor(image, cv2.COLOR_BGR2RGB)"
   ]
  },
  {
   "cell_type": "code",
   "execution_count": null,
   "metadata": {},
   "outputs": [],
   "source": [
    "# TESTING: show our image\n",
    "plt.figure()\n",
    "plt.imshow(image)\n",
    "plt.title('image')\n",
    "plt.show()"
   ]
  },
  {
   "cell_type": "code",
   "execution_count": null,
   "metadata": {},
   "outputs": [],
   "source": [
    "# reshape image to a two dimension list of pixels\n",
    "# the first dimension is each individual pixel while the\n",
    "# second is the three color layers\n",
    "image = image.reshape((image.shape[0] * image.shape[1], 3))"
   ]
  },
  {
   "cell_type": "code",
   "execution_count": null,
   "metadata": {},
   "outputs": [],
   "source": [
    "# cluster the pixel intensities\n",
    "\"\"\"The number of clusters to form as well as the number of centroids to generate.\"\"\"\n",
    "clt = KMeans(n_clusters= 6)\n",
    "\"\"\"image : array-like or sparse matrix, shape=(n_samples, n_features)\n",
    "Training instances to cluster.\"\"\"\n",
    "clt.fit(image)"
   ]
  },
  {
   "cell_type": "code",
   "execution_count": null,
   "metadata": {},
   "outputs": [],
   "source": [
    "\"\"\"cluster_centers_ : array, [n_clusters, n_features] Coordinates of cluster centers\n",
    "\n",
    "labels_ : Labels of each point\n",
    "\n",
    "inertia_ : float\n",
    "\n",
    "Sum of squared distances of samples to their closest cluster center.\"\"\"\n",
    "\n",
    "clt.cluster_centers_"
   ]
  },
  {
   "cell_type": "code",
   "execution_count": null,
   "metadata": {},
   "outputs": [],
   "source": [
    "clt.labels_"
   ]
  },
  {
   "cell_type": "code",
   "execution_count": null,
   "metadata": {},
   "outputs": [],
   "source": [
    "# build histogram of clusters and create a figure\n",
    "# representing the number of pixels labeled to each color\n",
    "hist = centroid_histogram(clt)                # .utils in python file\n",
    "bar = plot_colors(hist, clt.cluster_centers_) # .utils in python file"
   ]
  },
  {
   "cell_type": "code",
   "execution_count": null,
   "metadata": {},
   "outputs": [],
   "source": [
    "plt.figure()\n",
    "plt.plot(hist)"
   ]
  },
  {
   "cell_type": "code",
   "execution_count": null,
   "metadata": {},
   "outputs": [],
   "source": [
    "# extract the RGB pixel values\n",
    "# a tuple whose first element is the image path,\n",
    "# and second element is an tuple of cluster centers given by bar\n",
    "row = (image_path, [tuple(x) for x in bar])\n",
    "row"
   ]
  },
  {
   "cell_type": "code",
   "execution_count": null,
   "metadata": {},
   "outputs": [],
   "source": [
    "'''original'''\n",
    "# make a list of lists containing the RGB values for all the colors in the histogram\n",
    "palette = []\n",
    "for arr in list(row[1][0]):\n",
    "    # print([arr[0], arr[1], arr[2]])\n",
    "    palette.append([arr[0], arr[1], arr[2]])\n",
    "    \n",
    "# remove duplicates in the color list\n",
    "# print(lst_palette)\n",
    "palette = list(palette for palette,_ in itertools.groupby(palette))\n",
    "# print(lst_palette)\n",
    "palette"
   ]
  },
  {
   "cell_type": "raw",
   "metadata": {},
   "source": [
    "\n",
    "# make a list of lists containing the RGB values for all the colors in the histogram\n",
    "palette = [row[1][0]]"
   ]
  },
  {
   "cell_type": "raw",
   "metadata": {},
   "source": [
    "clt.cluster_centers_"
   ]
  },
  {
   "cell_type": "code",
   "execution_count": null,
   "metadata": {},
   "outputs": [],
   "source": [
    "# print(lst_palette)\n",
    "'''improvement'''\n",
    "palette = clt.cluster_centers_.astype('int').tolist()\n",
    "palette"
   ]
  },
  {
   "cell_type": "code",
   "execution_count": null,
   "metadata": {
    "scrolled": true
   },
   "outputs": [],
   "source": [
    "# show our color bar\n",
    "plt.figure()\n",
    "plt.axis(\"off\")\n",
    "plt.imshow(bar)\n",
    "plt.savefig(\"output/result2.png\")\n",
    "plt.show()"
   ]
  },
  {
   "cell_type": "code",
   "execution_count": null,
   "metadata": {},
   "outputs": [],
   "source": [
    "# write rbg values into csv file\n",
    "writer.writerow([row[0].encode('utf-8', 'ignore'), palette,])\n",
    "'''Close the file'''\n",
    "file.close()"
   ]
  },
  {
   "cell_type": "markdown",
   "metadata": {},
   "source": [
    "### The following functions are from `utils.py`\n",
    "functions defined here include:\n",
    "\n",
    "`centroid_histogram(clt)`\n",
    "\n",
    "`plot_colors(hist, centroids)`"
   ]
  },
  {
   "cell_type": "code",
   "execution_count": null,
   "metadata": {},
   "outputs": [],
   "source": [
    "def centroid_histogram(clt):\n",
    "    \"\"\"\n",
    "    Grab the number of different clusters and create a histogram based \n",
    "    on the number of pixels assigned to each cluster\n",
    "\n",
    "    Args:\n",
    "        clt (sklearn.cluster.Kmeans): a sklearn.cluster.Kmeans object that contains centroid\n",
    "                                      locations and labels for each point\n",
    "    Returns:\n",
    "        hist (np.histogram): TODO\n",
    "    \"\"\"\n",
    "#     numLabels = np.arange(0, len(np.unique(clt.labels_)) + 1)\n",
    "#     (hist, _) = np.histogram(clt.labels_, bins=numLabels)\n",
    "    '''The original method above creates a histogram by creating bins edge,\n",
    "    an alternative to that would be the following'''\n",
    "    \n",
    "    '''improvement'''\n",
    "    # create a histogram for clt.labels_ with the numbers of centroids as bin numbers\n",
    "    (hist, _) = np.histogram(clt.labels_, bins=len(clt.cluster_centers_))\n",
    "\n",
    "    '''normalize the histogram, such that it sums to one''' \n",
    "    # cast the whole hist array into float\n",
    "    hist = hist.astype(\"float\")\n",
    "    hist /= hist.sum()\n",
    "\n",
    "    # return the histogram\n",
    "    return hist"
   ]
  },
  {
   "cell_type": "code",
   "execution_count": null,
   "metadata": {
    "scrolled": true
   },
   "outputs": [],
   "source": [
    "def test_arrange():\n",
    "    global clt\n",
    "    numLabels = np.arange(0, len(np.unique(clt.labels_)) + 1)\n",
    "    (hist, _) = np.histogram(clt.labels_, bins=numLabels)\n",
    "%time test_arrange()"
   ]
  },
  {
   "cell_type": "code",
   "execution_count": null,
   "metadata": {},
   "outputs": [],
   "source": [
    "%time (hist, _) = np.histogram(clt.labels_, bins=len(clt.cluster_centers_))"
   ]
  },
  {
   "cell_type": "code",
   "execution_count": null,
   "metadata": {},
   "outputs": [],
   "source": [
    "def plot_colors(hist, centroids):\n",
    "    \"\"\"\n",
    "    Initialize the bar chart representing the relative frequency of each of the colors.\n",
    "\n",
    "    Args:\n",
    "        hist (np.histogram): a histogram showing how many points are associated with\n",
    "                             each centroid\n",
    "    Returns:\n",
    "        bar (np.arrary/image): a bar graph that display the centroid colors based on \n",
    "                               the distribution in histogram\n",
    "    \"\"\"\n",
    "    bar = np.zeros((50, 300, 3), dtype=\"uint8\")\n",
    "    startX = 0\n",
    "\n",
    "    # loop over the percentage of each cluster and the color of\n",
    "    # each cluster\n",
    "    for (percent, color) in zip(hist, centroids):\n",
    "        # plot the relative percentage of each cluster\n",
    "        endX = startX + (percent * 300)\n",
    "        cv2.rectangle(bar, (int(startX), 0), (int(endX), 50),\n",
    "                      color.astype(\"uint8\").tolist(), -1)\n",
    "        startX = endX\n",
    "\n",
    "    # return the bar chart\n",
    "    return bar"
   ]
  },
  {
   "cell_type": "markdown",
   "metadata": {},
   "source": [
    "### The following functions are from `colorwheel.py`\n",
    "\n",
    "functions defined here include:\n",
    "\n",
    "`give_color(color)`\n",
    "\n",
    "`get_complement(color)`\n",
    "\n",
    "`complement_accents(color)`"
   ]
  },
  {
   "cell_type": "code",
   "execution_count": null,
   "metadata": {},
   "outputs": [],
   "source": [
    "COLORWHEEL = {\"red\": (255, 0, 0), \"rose\": (255, 0, 128), \"magenta\": (255, 0, 255), \"violet\": (128, 0, 255),\n",
    "              \"blue\": (0, 0, 255), \"azure\": (0, 128, 255), \"cyan\": (0, 255, 255),\n",
    "              \"spring green\": (0, 255, 128), \"green\": (0, 255, 0), \"chartreuse\": (128, 255, 0), \"yellow\": (225, 255, 0),\n",
    "              \"orange\": (255, 128, 0)}"
   ]
  },
  {
   "cell_type": "code",
   "execution_count": null,
   "metadata": {},
   "outputs": [],
   "source": [
    "MIDRED = 0;WARMRED = 15;ORANGE = 30;WARMYELLOW = 45;MIDYELLOW = 60;COOLYELLOW = 75;YELLOWGREEN = 90;WARMGREEN = 105;\n",
    "MIDGREEN = 120;COOLGREEN = 135;GREENCYAN = 150;WARMCYAN = 165;\n",
    "MIDCYAN = 180;COOLCYAN = 195;BLUECYAN = 210;COOLBLUE = 225;MIDBLUE = 240;WARMBLUE = 255;VIOLET = 270;COOLMAGENTA = 285;MIDMAGENTA = 300;WARMMAGENTA = 315;REDMAGENTA = 330;COOLRED = 345"
   ]
  },
  {
   "cell_type": "code",
   "execution_count": null,
   "metadata": {},
   "outputs": [],
   "source": [
    "COLORWHEEL_RANGE = {0: \"MIDRED\", 15: \"WARMRED\", 30: \"ORANGE\", 45: \"WARMYELLOW\", 60: \"MIDYELLOW\", 75: \"COOLYELLOW\",\n",
    "                    90: \"YELLOWGREEN\", 105: \"WARMGREEN\", 120: \"MIDGREEN\", 135: \"COOLGREEN\", 150: \"GREENCYAN\",\n",
    "                    165: \"WARMCYAN\", 180: \"MIDCYAN\", 195 : \"COOLCYAN\", 210: \"BLUECYAN\", 225: \"COOLBLUE\", 240: \"MIDBLUE\",\n",
    "                    255 : \"WARMBLUE\",270 : \"VIOLET\", 285 : \"COOLMAGENTA\", 300 : \"MIDMAGENTA\", 315 : \"WARMMAGENTA\", 330 : \"REDMAGENTA\",\n",
    "                    345 : \"COOLRED\"}\n",
    "HVALS = dict((v,k) for k, v in COLORWHEEL_RANGE.iteritems())"
   ]
  },
  {
   "cell_type": "code",
   "execution_count": null,
   "metadata": {},
   "outputs": [],
   "source": [
    "def give_color(color):\n",
    "    \"\"\"\n",
    "    Returns string name of the color of the input h,s,v\n",
    "    :param color: a hsv tuple\n",
    "    :return: string corresponding to closest color on color wheel\n",
    "    \"\"\"\n",
    "    h,s,v = color\n",
    "    if 0<=h<15:\n",
    "        return COLORWHEEL_RANGE.get(0)\n",
    "    elif 15<=h<30:\n",
    "        return COLORWHEEL_RANGE.get(15)\n",
    "    elif 30<=h<45:\n",
    "        return COLORWHEEL_RANGE.get(30)\n",
    "    elif 45<=h<60:\n",
    "        return COLORWHEEL_RANGE.get(45)\n",
    "    elif 60<=h<75:\n",
    "        return COLORWHEEL_RANGE.get(60)\n",
    "    elif 75<=h<90:\n",
    "        return COLORWHEEL_RANGE.get(75)\n",
    "    elif 90<=h<105:\n",
    "        return COLORWHEEL_RANGE.get(90)\n",
    "    elif 105<=h<120:\n",
    "        return COLORWHEEL_RANGE.get(105)\n",
    "    elif 120<=h<135:\n",
    "        return COLORWHEEL_RANGE.get(120)\n",
    "    elif 135<=h<150:\n",
    "        return COLORWHEEL_RANGE.get(135)\n",
    "    elif 150<=h<165:\n",
    "        return COLORWHEEL_RANGE.get(150)\n",
    "    elif 165<=h<180:\n",
    "        return COLORWHEEL_RANGE.get(165)\n",
    "    elif 180<=h<195:\n",
    "        return COLORWHEEL_RANGE.get(180)\n",
    "    elif 195<=h<210:\n",
    "        return COLORWHEEL_RANGE.get(195)\n",
    "    elif 210<=h<225:\n",
    "        return COLORWHEEL_RANGE.get(210)\n",
    "    elif 255<=h<240:\n",
    "        return COLORWHEEL_RANGE.get(225)\n",
    "    elif 240<=h<255:\n",
    "        return COLORWHEEL_RANGE.get(240)\n",
    "    elif 255<=h<270:\n",
    "        return COLORWHEEL_RANGE.get(255)\n",
    "    elif 270<=h<285:\n",
    "        return COLORWHEEL_RANGE.get(270)\n",
    "    elif 285<=h<300:\n",
    "        return COLORWHEEL_RANGE.get(285)\n",
    "    elif 300<=h<315:\n",
    "        return COLORWHEEL_RANGE.get(300)\n",
    "    elif 315<=h<330:\n",
    "        return COLORWHEEL_RANGE.get(315)\n",
    "    elif 330<=h<345:\n",
    "        return COLORWHEEL_RANGE.get(330)\n",
    "    else:\n",
    "        return COLORWHEEL_RANGE.get(345)"
   ]
  },
  {
   "cell_type": "code",
   "execution_count": null,
   "metadata": {},
   "outputs": [],
   "source": [
    "def get_complement(color):\n",
    "    \"\"\"\n",
    "    Gives complementary color to input color using additive color wheel\n",
    "    :param colorname: str of closest color name\n",
    "            color: tuple of hsv\n",
    "    :return: hsv value of complement\n",
    "    \"\"\"\n",
    "    h,s,v = color\n",
    "    colorname = give_color(color)\n",
    "    colorvalue = HVALS.get(colorname)\n",
    "    if colorvalue < 180:\n",
    "        newh = (180 + colorvalue) + (h-colorvalue)\n",
    "    else:\n",
    "        newh = (colorvalue - 180) + (h - colorvalue)\n",
    "    return (newh,s,v)"
   ]
  },
  {
   "cell_type": "code",
   "execution_count": null,
   "metadata": {},
   "outputs": [],
   "source": [
    "def complement_accents(color):\n",
    "    \"\"\"\n",
    "    Returns the HSV values for the dominant and accent colors of the complementary color palette\n",
    "    :param color: tuple containing HSV value\n",
    "    :return: two tuples, one for dominant and one for complementary accents\n",
    "    \"\"\"\n",
    "    h,s,v = color\n",
    "    if s<210:\n",
    "        news = s + random.randint(35,45)\n",
    "    else:\n",
    "        news = s - random.randint(35,45)\n",
    "    if v < 210:\n",
    "        newv = 255\n",
    "    else:\n",
    "        newv = v - random.randint(35,45)\n",
    "    return (h,news,newv)"
   ]
  }
 ],
 "metadata": {
  "kernelspec": {
   "display_name": "Python 3",
   "language": "python",
   "name": "python3"
  },
  "language_info": {
   "codemirror_mode": {
    "name": "ipython",
    "version": 3
   },
   "file_extension": ".py",
   "mimetype": "text/x-python",
   "name": "python",
   "nbconvert_exporter": "python",
   "pygments_lexer": "ipython3",
   "version": "3.6.3"
  }
 },
 "nbformat": 4,
 "nbformat_minor": 2
}
