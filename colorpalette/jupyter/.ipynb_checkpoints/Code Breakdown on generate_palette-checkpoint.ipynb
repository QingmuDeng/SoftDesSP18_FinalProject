{
 "cells": [
  {
   "cell_type": "code",
   "execution_count": 1,
   "metadata": {},
   "outputs": [],
   "source": [
    "import numpy as np\n",
    "import cv2\n",
    "import random\n",
    "from sklearn.cluster import KMeans\n",
    "import math\n",
    "\n",
    "\"\"\"for rgb/hsv values conversion\"\"\"\n",
    "from colorsys import rgb_to_hsv, hsv_to_rgb\n",
    "\n",
    "\"\"\"Unused in the shortened version\"\"\"\n",
    "import itertools\n",
    "\"\"\"For displaying images inside Jupyter Notebook\"\"\"\n",
    "%matplotlib notebook\n",
    "import matplotlib.pyplot as plt\n",
    "\n",
    "\"\"\"For creating csv files\"\"\"\n",
    "import csv"
   ]
  },
  {
   "cell_type": "code",
   "execution_count": 2,
   "metadata": {},
   "outputs": [],
   "source": [
    "\"\"\"importing python files not in this directory\"\"\"\n",
    "import os\n",
    "import sys\n",
    "module_path = os.path.abspath(os.path.join('..'))\n",
    "if module_path not in sys.path:\n",
    "    sys.path.append(module_path)"
   ]
  },
  {
   "cell_type": "code",
   "execution_count": 3,
   "metadata": {},
   "outputs": [
    {
     "data": {
      "text/plain": [
       "'For import any custom python functions'"
      ]
     },
     "execution_count": 3,
     "metadata": {},
     "output_type": "execute_result"
    }
   ],
   "source": [
    "\"\"\"For import any custom python functions\"\"\"\n"
   ]
  },
  {
   "cell_type": "code",
   "execution_count": 4,
   "metadata": {},
   "outputs": [],
   "source": [
    "'''Global Variables'''\n",
    "DEFAULT_NUM_COLORS = 5\n",
    "DEFAULT_MINV = 150\n",
    "DEFAULT_MAXV = 255\n",
    "SCALE = 256.0\n",
    "COLORWHEEL = {\"red\": (255, 0, 0), \"rose\": (255, 0, 128), \"magenta\": (255, 0, 255), \"violet\": (128, 0, 255),\n",
    "              \"blue\": (0, 0, 255), \"azure\": (0, 128, 255), \"cyan\": (0, 255, 255),\n",
    "              \"spring green\": (0, 255, 128), \"green\": (0, 255, 0), \"chartreuse\": (128, 255, 0), \"yellow\": (225, 255, 0),\n",
    "              \"orange\": (255, 128, 0)}"
   ]
  },
  {
   "cell_type": "markdown",
   "metadata": {},
   "source": [
    "## Function Definitions"
   ]
  },
  {
   "cell_type": "code",
   "execution_count": 5,
   "metadata": {},
   "outputs": [],
   "source": [
    "def user_input():\n",
    "    \"\"\"TODO\n",
    "\n",
    "    Returns:\n",
    "        TODO\n",
    "    \"\"\"\n",
    "    palette_types = [\"1) Analogous\", \"2) Complementary\", \"3) Triadic\", \"4) Pastel\", \"5) Monochromatic\", \"6) Bright\"]\n",
    "    palette_choice = input(\"Select one of the following palette types: \" + ' '.join(palette_types) + \"\\n\")\n",
    "    return palette_types[palette_choice - 1][3:]"
   ]
  },
  {
   "cell_type": "code",
   "execution_count": 6,
   "metadata": {},
   "outputs": [],
   "source": [
    "def down_scale(x):\n",
    "    \"\"\"TODO\n",
    "\n",
    "    Args:\n",
    "        x (unknown): TODO\n",
    "    Returns:\n",
    "        TODO\n",
    "    \"\"\"\n",
    "    return x / SCALE"
   ]
  },
  {
   "cell_type": "code",
   "execution_count": 7,
   "metadata": {},
   "outputs": [],
   "source": [
    "def up_scale(x):\n",
    "    \"\"\"TODO\n",
    "\n",
    "    Args:\n",
    "        x (unknown): TODO\n",
    "    Returns:\n",
    "        TODO\n",
    "    \"\"\"\n",
    "    return int(x * SCALE)"
   ]
  },
  {
   "cell_type": "code",
   "execution_count": 8,
   "metadata": {},
   "outputs": [],
   "source": [
    "def clamp(color, min_v, max_v):\n",
    "    \"\"\"Clamps a color such that its value is between min_v and max_v\n",
    "\n",
    "    Args:\n",
    "        color (unknown): TODO\n",
    "        min_v (unknown): TODO\n",
    "        max_v (unknown): TODO\n",
    "    Returns:\n",
    "        bar (np.arrary): TODO\n",
    "    \"\"\"\n",
    "    h, s, v = rgb_to_hsv(*map(down_scale, color))\n",
    "    min_v, max_v = map(down_scale, (min_v, max_v))\n",
    "    v = min(max(min_v, v), max_v)\n",
    "    return tuple(map(up_scale, hsv_to_rgb(h, s, v)))"
   ]
  },
  {
   "cell_type": "code",
   "execution_count": 9,
   "metadata": {},
   "outputs": [],
   "source": [
    "def dominant_colors(image, n=DEFAULT_NUM_COLORS):\n",
    "    \"\"\"TODO: CAN BE SHORTENED\n",
    "\n",
    "    Args:\n",
    "        image (np.array): TODO\n",
    "        n (int): TODO\n",
    "    Returns:\n",
    "        bar (np.arrary): TODO\n",
    "    \"\"\"\n",
    "    # cluster the pixel intensities\n",
    "    clt = KMeans(n_clusters=n)\n",
    "    clt.fit(image)\n",
    "\n",
    "    # build histogram of clusters and create a figure\n",
    "    # representing the number of pixels labeled to each color\n",
    "    hist = utils.centroid_histogram(clt)\n",
    "    bar = utils.plot_colors(hist, clt.cluster_centers_)\n",
    "\n",
    "    # print(\"hist\", hist)\n",
    "    # print(clt.cluster_centers_)\n",
    "\n",
    "    # extract the RGB pixel values\n",
    "    row = [tuple(x) for x in bar]\n",
    "\n",
    "    # make a list of lists containing the RGB values for all the colors in the histogram\n",
    "    palette = []\n",
    "    for arr in list(row[1]):\n",
    "        # print([arr[0], arr[1], arr[2]])\n",
    "        palette.append([arr[0], arr[1], arr[2]])\n",
    "\n",
    "    # remove duplicates in the color list\n",
    "    palette = list(palette for palette, _ in itertools.groupby(palette))\n",
    "    # print(palette)\n",
    "\n",
    "    # make a dictionary with keys being the percentages and values being the rgbs\n",
    "    output_palette = {}\n",
    "    for index, color in enumerate(palette):\n",
    "        output_palette[hist[index]] = color\n",
    "    return bar, output_palette"
   ]
  },
  {
   "cell_type": "code",
   "execution_count": 10,
   "metadata": {},
   "outputs": [],
   "source": [
    "def get_hsv(clr):\n",
    "    \"\"\"Convert a single rgb value into hsv\n",
    "\n",
    "    Args:\n",
    "        clr (tuple?): a list of rgb values\n",
    "    Returns:\n",
    "        h,s,v (tuple): a tuple of hue, saturation, and value\n",
    "    \"\"\"\n",
    "    # using colorsys.rgb_to_hsv\n",
    "    h, s, v = rgb_to_hsv(*map(down_scale, clr))\n",
    "    h, s, v = 360 * h, 100 * s, 100 * v\n",
    "    return h, s, v"
   ]
  },
  {
   "cell_type": "code",
   "execution_count": 11,
   "metadata": {},
   "outputs": [],
   "source": [
    "def get_hsvs(clrs):\n",
    "    \"\"\"Iterate through a list of rgb values, convert into hsv, and append to another list\n",
    "\n",
    "    Args:\n",
    "        clrs (list): a list of rgb values\n",
    "    Returns:\n",
    "        new_clrs (list): a list of hsv values calculated with the rgb values\n",
    "    \"\"\"\n",
    "    # iterate through a list of rgb values, convert into hsv, and append to another list\n",
    "    return [get_hsv(clr) for clr in clrs]"
   ]
  },
  {
   "cell_type": "code",
   "execution_count": 12,
   "metadata": {},
   "outputs": [],
   "source": [
    "def get_rgb(clr):\n",
    "    \"\"\"Convert a single hsv value into rgb\n",
    "\n",
    "    Args:\n",
    "        clr (tuple?): a list of rgb values\n",
    "    Returns:\n",
    "        h,s,v (tuple): a tuple of hue, saturation, and value\n",
    "    \"\"\"\n",
    "    # convert a single hsv value into rgb\n",
    "    h, s, v = clr\n",
    "    h, s, v = h / 360, s / 100, v / 100\n",
    "    return tuple(map(up_scale, hsv_to_rgb(h, s, v)))"
   ]
  },
  {
   "cell_type": "code",
   "execution_count": 13,
   "metadata": {},
   "outputs": [],
   "source": [
    "def get_rgbs(clrs):\n",
    "    \"\"\"Iterate through a list of hsv values, convert into rgb, and append to another list\n",
    "\n",
    "    Args:\n",
    "        clrs (list): a list of rgb values\n",
    "    Returns:\n",
    "        new_clrs (list): a list of rgb values calculated with the hsv values\n",
    "    \"\"\"\n",
    "    new_clrs = []\n",
    "    for clr in clrs:\n",
    "        new_clrs.append(get_rgb(clr))\n",
    "    return new_clrs"
   ]
  },
  {
   "cell_type": "code",
   "execution_count": 20,
   "metadata": {},
   "outputs": [],
   "source": [
    "def get_rgbs(clrs):\n",
    "    # iterate through a list of hsv values, convert into rgb, and append to another list\n",
    "    return [get_rgb(clr) for clr in clrs]"
   ]
  },
  {
   "cell_type": "code",
   "execution_count": 21,
   "metadata": {},
   "outputs": [
    {
     "data": {
      "text/plain": [
       "[(237, 256, 134),\n",
       " (176, 256, 134),\n",
       " (78, 149, 89),\n",
       " (134, 256, 213),\n",
       " (134, 237, 256)]"
      ]
     },
     "execution_count": 21,
     "metadata": {},
     "output_type": "execute_result"
    }
   ],
   "source": [
    "a = [(69, 47.651006711409394, 100), (99, 47.651006711409394, 100), (129.2957746478873, 47.651006711409394, 58.43137254901961), (159, 47.651006711409394, 100), (189, 47.651006711409394, 100)]\n",
    "get_rgbs(a)"
   ]
  },
  {
   "cell_type": "code",
   "execution_count": 22,
   "metadata": {},
   "outputs": [],
   "source": [
    "def analogous(color):\n",
    "    \"\"\"\n",
    "    Returns the HSV values of all of the 4 analogous complements. NOTE THAT H VALUES ARE 0-180\n",
    "    :param color: tuple with HSV values of the dominant color (where input h is 0-180)\n",
    "    :return:list containing the HSV values of all 5 palette colors\n",
    "    \"\"\"\n",
    "    print(color, 'what color')\n",
    "    h,s,v = color\n",
    "    # h = h_old*2\n",
    "    ranv = 15\n",
    "\n",
    "    accent1 = (int((h-60)), s, 100)\n",
    "    leftdomin = (int((h-30)), s, 100)\n",
    "    rightdomin = (int((h+30)), s, 100)\n",
    "    accent2 = (int((h+60)), s, 100)\n",
    "    print([accent1, leftdomin, color, rightdomin, accent2], 'this is the hue')\n",
    "    return get_rgbs([accent1, leftdomin, color, rightdomin, accent2])"
   ]
  },
  {
   "cell_type": "code",
   "execution_count": 25,
   "metadata": {},
   "outputs": [
    {
     "name": "stdout",
     "output_type": "stream",
     "text": [
      "(129.2957746478873, 47.651006711409394, 58.43137254901961) what color\n",
      "[(69, 47.651006711409394, 100), (99, 47.651006711409394, 100), (129.2957746478873, 47.651006711409394, 58.43137254901961), (159, 47.651006711409394, 100), (189, 47.651006711409394, 100)] this is the hue\n"
     ]
    },
    {
     "data": {
      "text/plain": [
       "[(237, 256, 134),\n",
       " (176, 256, 134),\n",
       " (78, 149, 89),\n",
       " (134, 256, 213),\n",
       " (134, 237, 256)]"
      ]
     },
     "execution_count": 25,
     "metadata": {},
     "output_type": "execute_result"
    }
   ],
   "source": [
    "color = (129.2957746478873, 47.651006711409394, 58.43137254901961)\n",
    "palette = analogous(color)\n",
    "palette"
   ]
  },
  {
   "cell_type": "code",
   "execution_count": null,
   "metadata": {},
   "outputs": [],
   "source": [
    "def get_mag(rgb):\n",
    "    \"\"\"Return the magnitude of a rgb pixel/vector\n",
    "\n",
    "    Args:\n",
    "        rgb (tuple): a tuple of rgb values\n",
    "    Returns:\n",
    "        new_clrs (float): the magnitude of the 3D rgb vector\n",
    "    \"\"\"\n",
    "    r, g, b = rgb\n",
    "    return math.sqrt(r ** 2 + g ** 2 + b ** 2)"
   ]
  },
  {
   "cell_type": "code",
   "execution_count": null,
   "metadata": {},
   "outputs": [],
   "source": [
    "def get_brightness(hsv):\n",
    "    \"\"\"Return the magnitude of just the S and V components of a hsv pixel/vector\n",
    "\n",
    "    Args:\n",
    "        rgb (tuple): a tuple of rgb values\n",
    "    Returns:\n",
    "        new_clrs (float): the magnitude of the 3D rgb vector\n",
    "    \"\"\"\n",
    "    h, s, v = hsv\n",
    "    return math.sqrt(s ** 2 + v ** 2)"
   ]
  },
  {
   "cell_type": "code",
   "execution_count": null,
   "metadata": {},
   "outputs": [],
   "source": [
    "def get_hexs(clrs):\n",
    "    \"\"\"Convert RGB to hex and change array of RGB values to tuple\n",
    "\n",
    "    Args:\n",
    "        clrs (list): a list of rgb values\n",
    "    Returns:\n",
    "        hexs (list): a list of hex values\n",
    "    \"\"\"\n",
    "    hexs = []\n",
    "    for clr in clrs:\n",
    "        hexs.append(\"#{0:02x}{1:02x}{2:02x}\".format(clr[0], clr[1], clr[2]))\n",
    "    return hexs"
   ]
  },
  {
   "cell_type": "code",
   "execution_count": null,
   "metadata": {},
   "outputs": [],
   "source": [
    "def show_colors(bar, save=None):\n",
    "    \"\"\"Show our color bar\n",
    "\n",
    "    Args:\n",
    "        bar (TODO): TODO\n",
    "        save (boolean): a boolean that determines whether or not to save the color bar\n",
    "    \"\"\"\n",
    "    # show our color bar\n",
    "    plt.figure()\n",
    "    plt.axis(\"off\")\n",
    "    plt.imshow(bar)\n",
    "    if save:\n",
    "        plt.savefig(save)\n",
    "    plt.show()\n",
    "    plt.close()"
   ]
  },
  {
   "cell_type": "code",
   "execution_count": null,
   "metadata": {},
   "outputs": [],
   "source": [
    "def crop(image):\n",
    "    \"\"\"TODO\n",
    "\n",
    "    Args:\n",
    "        image (np.array): an image saved as a numpy array\n",
    "    Returns:\n",
    "        image2 (np.array): a cropped image TODO\n",
    "    \"\"\"\n",
    "    # first resize image\n",
    "    r = 100.0 / image.shape[1]\n",
    "    dim = (100, int(image.shape[0] * r))\n",
    "    image = cv2.resize(image, dim, interpolation=cv2.INTER_AREA)\n",
    "\n",
    "    # iterate through the image width and height to create all possible crops\n",
    "    images = []\n",
    "    height, width = image.shape[:2]\n",
    "    delta_x = width / 4\n",
    "    delta_y = height / 4\n",
    "    index_x = 0\n",
    "    index_y = 0\n",
    "    for i in range(0, 4):\n",
    "        for j in range(0, 4):\n",
    "            temp_img = image[index_y:index_y + delta_y, index_x:index_x + delta_x]\n",
    "            # cv2.imshow(\"cropped\", temp_img)\n",
    "            # cv2.waitKey(500)\n",
    "            images.append(temp_img)\n",
    "            index_y += delta_y\n",
    "        index_y = 0\n",
    "        index_x += delta_x\n",
    "\n",
    "    # iterate through the cropped images to generate an array of clamped pixels\n",
    "    images2 = []\n",
    "    for img in images:\n",
    "        # reshape image to list of pixels\n",
    "        img = img.reshape((img.shape[0] * img.shape[1], 3))\n",
    "        image2 = []\n",
    "        # make sure pixels are in the right brightness ranges\n",
    "        for pix in img:\n",
    "            pix = clamp(pix, DEFAULT_MINV, DEFAULT_MAXV)\n",
    "            image2.append(pix)\n",
    "        images2.append(image2)\n",
    "    return images2"
   ]
  },
  {
   "cell_type": "code",
   "execution_count": null,
   "metadata": {},
   "outputs": [],
   "source": [
    "def edit_image(image):\n",
    "    \"\"\"Show our color bar\n",
    "\n",
    "    Args:\n",
    "        image (np.array): an image saved as a numpy array\n",
    "    Returns:\n",
    "        image2 (np.array): an edited image TODO\n",
    "    \"\"\"\n",
    "    # TESTING: show our image\n",
    "    # cv2.imshow('image',image)\n",
    "    # cv2.waitKey(0)\n",
    "    # cv2.destroyAllWindows()\n",
    "\n",
    "    r = 100.0 / image.shape[1]\n",
    "    dim = (100, int(image.shape[0] * r))\n",
    "\n",
    "    # perform the actual resizing of the image and show it\n",
    "    resized = cv2.resize(image, dim, interpolation=cv2.INTER_AREA)\n",
    "    # cv2.imshow(\"resized\", resized)\n",
    "    # cv2.waitKey(0)\n",
    "\n",
    "    # reshape image to list of pixels and clamp values\n",
    "    image = resized.reshape((resized.shape[0] * resized.shape[1], 3))\n",
    "    image2 = []\n",
    "    for pix in image:\n",
    "        pix = clamp(pix, DEFAULT_MINV, DEFAULT_MAXV)\n",
    "        image2.append(pix)\n",
    "    return image2"
   ]
  },
  {
   "cell_type": "markdown",
   "metadata": {},
   "source": [
    "### Function from `utils.py`"
   ]
  },
  {
   "cell_type": "code",
   "execution_count": null,
   "metadata": {},
   "outputs": [],
   "source": [
    "def centroid_histogram(clt):\n",
    "    \"\"\"\n",
    "    Grab the number of different clusters and create a histogram based \n",
    "    on the number of pixels assigned to each cluster\n",
    "\n",
    "    Args:\n",
    "        clt (sklearn.cluster.Kmeans): a sklearn.cluster.Kmeans object that contains centroid\n",
    "                                      locations and labels for each point\n",
    "    Returns:\n",
    "        hist (np.histogram): TODO\n",
    "    \"\"\"\n",
    "#     numLabels = np.arange(0, len(np.unique(clt.labels_)) + 1)\n",
    "#     (hist, _) = np.histogram(clt.labels_, bins=numLabels)\n",
    "    '''The original method above creates a histogram by creating bins edge,\n",
    "    an alternative to that would be the following'''\n",
    "    \n",
    "    '''improvement'''\n",
    "    # create a histogram for clt.labels_ with the numbers of centroids as bin numbers\n",
    "    (hist, _) = np.histogram(clt.labels_, bins=len(clt.cluster_centers_))\n",
    "\n",
    "    '''normalize the histogram, such that it sums to one''' \n",
    "    # cast the whole hist array into float\n",
    "    hist = hist.astype(\"float\")\n",
    "    hist /= hist.sum()\n",
    "\n",
    "    # return the histogram\n",
    "    return hist"
   ]
  },
  {
   "cell_type": "code",
   "execution_count": null,
   "metadata": {},
   "outputs": [],
   "source": [
    "def plot_colors(hist, centroids):\n",
    "    \"\"\"\n",
    "    Initialize the bar chart representing the relative frequency of each of the colors.\n",
    "\n",
    "    Args:\n",
    "        hist (np.histogram): a histogram showing how many points are associated with\n",
    "                             each centroid\n",
    "    Returns:\n",
    "        bar (np.arrary/image): a bar graph that display the centroid colors based on \n",
    "                               the distribution in histogram\n",
    "    \"\"\"\n",
    "    bar = np.zeros((50, 300, 3), dtype=\"uint8\")\n",
    "    startX = 0\n",
    "\n",
    "    # loop over the percentage of each cluster and the color of\n",
    "    # each cluster\n",
    "    for (percent, color) in zip(hist, centroids):\n",
    "        # plot the relative percentage of each cluster\n",
    "        endX = startX + (percent * 300)\n",
    "        cv2.rectangle(bar, (int(startX), 0), (int(endX), 50),\n",
    "                      color.astype(\"uint8\").tolist(), -1)\n",
    "        startX = endX\n",
    "\n",
    "    # return the bar chart\n",
    "    return bar"
   ]
  },
  {
   "cell_type": "markdown",
   "metadata": {},
   "source": [
    "## Main program"
   ]
  },
  {
   "cell_type": "code",
   "execution_count": null,
   "metadata": {},
   "outputs": [],
   "source": [
    "# ask for user input\n",
    "# type = user_input()\n",
    "# print(type)"
   ]
  },
  {
   "cell_type": "code",
   "execution_count": null,
   "metadata": {},
   "outputs": [],
   "source": [
    "# create csv file with results\n",
    "file = csv.writer(open('palettes2.csv', 'w'))  #TODO: change back to 'wb' when running on Python 2.7\n",
    "file.writerow(['image name', 'RGB', 'Hex'])"
   ]
  },
  {
   "cell_type": "code",
   "execution_count": null,
   "metadata": {},
   "outputs": [],
   "source": [
    "# stores the rgb and hsv info for dominant and accent colors\n",
    "dominants_rgb = []\n",
    "dominants_hsv = []\n",
    "accents_rgb = []\n",
    "accents_hsv = []\n",
    "final_palette = []"
   ]
  },
  {
   "cell_type": "code",
   "execution_count": null,
   "metadata": {},
   "outputs": [],
   "source": [
    "# load image and convert from BGR to RBG\n",
    "image_path = 'test6.jpg'\n",
    "orig_image = cv2.imread(image_path)\n",
    "orig_image = cv2.cvtColor(orig_image, cv2.COLOR_BGR2RGB)\n",
    "image = edit_image(orig_image)"
   ]
  },
  {
   "cell_type": "code",
   "execution_count": null,
   "metadata": {},
   "outputs": [],
   "source": [
    "# find top 5 dominant colors of entire image\n",
    "bar1, palette1 = dominant_colors(image)\n",
    "print(palette1)\n",
    "# show colors\n",
    "# show_colors(bar1)"
   ]
  },
  {
   "cell_type": "code",
   "execution_count": null,
   "metadata": {},
   "outputs": [],
   "source": [
    "# get the top 1 dominant color from palette1\n",
    "first = palette1.pop(max(palette1))\n",
    "dominants_hsv.append(get_hsv(first))\n",
    "dom_h = dominants_hsv[0][0]\n",
    "print(dominants_hsv)"
   ]
  },
  {
   "cell_type": "code",
   "execution_count": null,
   "metadata": {},
   "outputs": [],
   "source": [
    "# Find next dominant color from palette1 that is similar to first dominant color by taking smallest difference in hue\n",
    "# Find the two potential accent colors from palette1 by picking the two dominant colors that are most different in hue to the most dominant color\n",
    "hsvs = get_hsvs(palette1.values())\n",
    "sub_hsvs = []\n",
    "for hsv in hsvs:\n",
    "    sub_hsvs.append(abs(hsv[0] - dom_h))\n",
    "\n",
    "# print(hsvs)\n",
    "# print(sub_hsvs)"
   ]
  },
  {
   "cell_type": "code",
   "execution_count": null,
   "metadata": {},
   "outputs": [],
   "source": [
    "# sort the hue differences from least difference to most difference\n",
    "hsvs.sort(key=dict(zip(hsvs, sub_hsvs)).get)\n",
    "# print(hsvs)\n",
    "dominants_hsv.append(hsvs[0])  # first elm is most dominant color\n",
    "accents_hsv.extend(hsvs[-2:])  # last elm is most diff in hue from dominant color"
   ]
  },
  {
   "cell_type": "code",
   "execution_count": null,
   "metadata": {},
   "outputs": [],
   "source": [
    "max_diff2 = abs(accents_hsv[-2][0] - dom_h)  # difference between dominant and second accent\n",
    "max_diff1 = abs(accents_hsv[-1][0] - dom_h) # difference between dominant and first accent\n",
    "min_diff = abs(dominants_hsv[-1][0] - dom_h) # difference between dominant and second dominant\n",
    "# print(max_dis, min_dis)\n",
    "# print(dominants_hsv)\n",
    "# print(accents_hsv)"
   ]
  },
  {
   "cell_type": "code",
   "execution_count": null,
   "metadata": {},
   "outputs": [],
   "source": [
    "dominants_rgb.extend(get_rgbs(dominants_hsv))\n",
    "accents_rgb.extend(get_rgbs(accents_hsv))\n",
    "print(dominants_rgb)\n",
    "print(accents_rgb)"
   ]
  },
  {
   "cell_type": "code",
   "execution_count": null,
   "metadata": {},
   "outputs": [],
   "source": [
    "# Examine the cropped images (consider resizing the cropped images) and look for better accents\n",
    "# look for brighter accents (go by magnitude of rgb), maybe more different from dominant colors (but watch out for outliers)\n",
    "# also look for alternatives to dominant colors by also optimizing magnitude of rgb\n",
    "cropped_images = crop(orig_image)"
   ]
  },
  {
   "cell_type": "code",
   "execution_count": null,
   "metadata": {},
   "outputs": [],
   "source": [
    "for crop in cropped_images:\n",
    "    # find top 3 most dominant colors in each crop image\n",
    "    bar, palette = dominant_colors(crop, 3)\n",
    "    # show_colors(bar)\n",
    "    temp_hsvs = get_hsvs(palette.values())\n",
    "    for hsv in temp_hsvs:\n",
    "        rgb = get_rgb(hsv)\n",
    "        mag1 = get_mag(rgb)\n",
    "        brightness1 = get_brightness(hsv)\n",
    "        diff = abs(hsv[0] - dom_h)\n",
    "        if diff - max_diff1 > 10 and brightness1 > get_brightness(accents_hsv[-1]):\n",
    "            # found a color that is more different from dominant than current 1st accent\n",
    "            max_diff2 = max_diff1\n",
    "            accents_rgb[-2] = accents_rgb[-1]\n",
    "            accents_hsv[-2] = accents_hsv[-1]\n",
    "\n",
    "            max_diff1 = diff\n",
    "            accents_rgb[-1] = rgb\n",
    "            accents_hsv[-1] = hsv\n",
    "            print(\"replace 1st accent\", rgb)\n",
    "\n",
    "        elif diff - max_diff2 > 10 and brightness1 > get_brightness(accents_hsv[-2]):\n",
    "            max_diff2 = diff\n",
    "            accents_rgb[-2] = rgb\n",
    "            accents_hsv[-2] = hsv\n",
    "            # found a color that is more different from dominant than current 2nd accent\n",
    "            print(\"replace 2nd accent\", rgb)\n",
    "\n",
    "        elif abs(diff - max_diff2) < 10 and mag1 > get_mag(accents_rgb[-2]):\n",
    "            # found a color that is similar in hue to 2nd accent\n",
    "            max_diff2 = diff\n",
    "            accents_rgb[-2] = rgb\n",
    "            accents_hsv[-2] = hsv\n",
    "            print(\"maybe found a brighter color to replace 2nd accent\", rgb)\n",
    "\n",
    "        elif abs(diff - max_diff1) < 10 and mag1 > get_mag(accents_rgb[-1]):\n",
    "            # found a color that is similar in hue to 1st accent\n",
    "            max_diff1 = diff\n",
    "            accents_rgb[-1] = rgb\n",
    "            accents_hsv[-1] = hsv\n",
    "            print(\"maybe found a brighter color to replace 1st accent\", rgb)"
   ]
  },
  {
   "cell_type": "code",
   "execution_count": null,
   "metadata": {},
   "outputs": [],
   "source": [
    "#Find transition dominant color and add to list of dominants\n",
    "#transdomS, transdomV = max(dominants_hsv[-1][1], dominants_hsv[0][1]), max(dominants_hsv[-1][2], dominants_hsv[0][2])\n",
    "transdomH = (abs(dominants_hsv[-1][0] - dominants_hsv[0][0])) / 2 + min(dominants_hsv[-1][0], dominants_hsv[0][0])\n",
    "transdomS = (abs(dominants_hsv[-1][1] - dominants_hsv[0][1])) / 2 + min(dominants_hsv[-1][1], dominants_hsv[0][1])\n",
    "transdomV = (abs(dominants_hsv[-1][2] - dominants_hsv[0][2])) / 2 + min(dominants_hsv[-1][2], dominants_hsv[0][2])"
   ]
  },
  {
   "cell_type": "code",
   "execution_count": null,
   "metadata": {},
   "outputs": [],
   "source": [
    "dominants_hsv.insert(1, (transdomH, transdomS, transdomV))\n",
    "dominants_rgb.insert(1, get_rgb((transdomH, transdomS, transdomV)))"
   ]
  },
  {
   "cell_type": "code",
   "execution_count": null,
   "metadata": {},
   "outputs": [],
   "source": [
    "# TESTING, display dominant and accent colors\n",
    "final_palette.extend(dominants_rgb)\n",
    "final_palette.extend(accents_rgb)\n",
    "final_palette = map(list, final_palette)\n",
    "final_palette2 = np.array(final_palette)\n",
    "hist = [1.0 / len(final_palette2)] * len(final_palette2)\n",
    "bar = utils.plot_colors(hist, final_palette2)\n",
    "show_colors(bar)"
   ]
  },
  {
   "cell_type": "code",
   "execution_count": null,
   "metadata": {},
   "outputs": [],
   "source": [
    "hexs = get_hexs(final_palette)\n",
    "print(\"hexs\", hexs)\n",
    "# write rbg values into csv file\n",
    "file.writerow([\n",
    "    image_path.encode('utf-8', 'ignore'),\n",
    "    final_palette,\n",
    "    hexs\n",
    "])"
   ]
  }
 ],
 "metadata": {
  "kernelspec": {
   "display_name": "Python 3",
   "language": "python",
   "name": "python3"
  },
  "language_info": {
   "codemirror_mode": {
    "name": "ipython",
    "version": 3
   },
   "file_extension": ".py",
   "mimetype": "text/x-python",
   "name": "python",
   "nbconvert_exporter": "python",
   "pygments_lexer": "ipython3",
   "version": "3.6.3"
  }
 },
 "nbformat": 4,
 "nbformat_minor": 2
}
